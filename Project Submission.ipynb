{
  "cells": [
    {
      "cell_type": "markdown",
      "metadata": {
        "id": "NTMnxjxcroxT"
      },
      "source": [
        "# Calling in Libraries"
      ]
    },
    {
      "cell_type": "code",
      "execution_count": 1,
      "metadata": {
        "id": "nXPbkKnUroxU"
      },
      "outputs": [],
      "source": [
        "import pandas as pd\n",
        "import requests\n",
        "from bs4 import BeautifulSoup\n",
        "from textblob import TextBlob\n",
        "import yfinance as yf"
      ]
    },
    {
      "cell_type": "markdown",
      "metadata": {
        "id": "1upOyv34roxU"
      },
      "source": [
        "Defining Stock Symbols that make up SOXL and  getting historical financial data"
      ]
    },
    {
      "cell_type": "code",
      "execution_count": 2,
      "metadata": {
        "id": "HFhyJnleroxU"
      },
      "outputs": [],
      "source": [
        "# Define the stock symbols\n",
        "stock_symbols = ['NVDA', 'AVGO', 'AMD', 'QCOM', 'MU']\n",
        "\n",
        "# Define the start and end dates\n",
        "start_date = '2019-01-01'\n",
        "end_date = '2024-10-01'\n"
      ]
    },
    {
      "cell_type": "code",
      "execution_count": null,
      "metadata": {
        "id": "a0iGQydcroxU",
        "outputId": "d0919ad8-aa36-4b52-c4f6-5078583e1542"
      },
      "outputs": [
        {
          "name": "stderr",
          "output_type": "stream",
          "text": [
            "[*********************100%***********************]  1 of 1 completed\n"
          ]
        }
      ],
      "source": [
        "import yfinance as yf\n",
        "\n",
        "stock_symbols = ['SOXL']\n",
        "start_date = '2019-01-01'\n",
        "end_date = '2024-10-01'\n",
        "\n",
        "data = yf.download(stock_symbols[0], start=start_date, end=end_date)\n",
        "data.to_csv('SOXL_stock_data.csv')"
      ]
    },
    {
      "cell_type": "markdown",
      "metadata": {
        "id": "ofvuxUI3roxV"
      },
      "source": [
        "Getting the Data itself"
      ]
    },
    {
      "cell_type": "code",
      "execution_count": null,
      "metadata": {
        "id": "MK2NiRidroxV",
        "outputId": "1d4fdbd3-5fdf-4f3c-88ab-6918974efea1"
      },
      "outputs": [
        {
          "name": "stdout",
          "output_type": "stream",
          "text": [
            "Data for NVDA:\n",
            "                               Open      High       Low     Close     Volume  \\\n",
            "Date                                                                           \n",
            "2019-01-02 00:00:00-05:00  3.239936  3.434371  3.225303  3.378322  508752000   \n",
            "2019-01-03 00:00:00-05:00  3.318057  3.352034  3.166775  3.174215  705552000   \n",
            "2019-01-04 00:00:00-05:00  3.247376  3.415771  3.216623  3.377578  585620000   \n",
            "2019-01-07 00:00:00-05:00  3.434868  3.593343  3.383531  3.556390  709160000   \n",
            "2019-01-08 00:00:00-05:00  3.637984  3.640216  3.395187  3.467853  786016000   \n",
            "\n",
            "                           Dividends  Stock Splits  \n",
            "Date                                                \n",
            "2019-01-02 00:00:00-05:00        0.0           0.0  \n",
            "2019-01-03 00:00:00-05:00        0.0           0.0  \n",
            "2019-01-04 00:00:00-05:00        0.0           0.0  \n",
            "2019-01-07 00:00:00-05:00        0.0           0.0  \n",
            "2019-01-08 00:00:00-05:00        0.0           0.0  \n",
            "\n",
            "Data for AVGO:\n",
            "                                Open       High        Low      Close  \\\n",
            "Date                                                                    \n",
            "2019-01-02 00:00:00-05:00  20.859342  21.349705  20.661519  21.249956   \n",
            "2019-01-03 00:00:00-05:00  20.499742  20.665711  19.306943  19.359751   \n",
            "2019-01-04 00:00:00-05:00  19.638883  19.819940  19.419266  19.550030   \n",
            "2019-01-07 00:00:00-05:00  19.585235  20.137629  19.342987  19.948189   \n",
            "2019-01-08 00:00:00-05:00  20.126730  20.276774  19.561764  19.788086   \n",
            "\n",
            "                             Volume  Dividends  Stock Splits  \n",
            "Date                                                          \n",
            "2019-01-02 00:00:00-05:00  30346000        0.0           0.0  \n",
            "2019-01-03 00:00:00-05:00  68580000        0.0           0.0  \n",
            "2019-01-04 00:00:00-05:00  54248000        0.0           0.0  \n",
            "2019-01-07 00:00:00-05:00  53433000        0.0           0.0  \n",
            "2019-01-08 00:00:00-05:00  36795000        0.0           0.0  \n",
            "\n",
            "Data for AMD:\n",
            "                                Open       High        Low      Close  \\\n",
            "Date                                                                    \n",
            "2019-01-02 00:00:00-05:00  18.010000  19.000000  17.980000  18.830000   \n",
            "2019-01-03 00:00:00-05:00  18.420000  18.680000  16.940001  17.049999   \n",
            "2019-01-04 00:00:00-05:00  17.549999  19.070000  17.430000  19.000000   \n",
            "2019-01-07 00:00:00-05:00  19.440001  20.680000  19.000000  20.570000   \n",
            "2019-01-08 00:00:00-05:00  21.190001  21.200001  19.680000  20.750000   \n",
            "\n",
            "                              Volume  Dividends  Stock Splits  \n",
            "Date                                                           \n",
            "2019-01-02 00:00:00-05:00   87148700        0.0           0.0  \n",
            "2019-01-03 00:00:00-05:00  117277600        0.0           0.0  \n",
            "2019-01-04 00:00:00-05:00  111878600        0.0           0.0  \n",
            "2019-01-07 00:00:00-05:00  107157000        0.0           0.0  \n",
            "2019-01-08 00:00:00-05:00  121271000        0.0           0.0  \n",
            "\n",
            "Data for QCOM:\n",
            "                                Open       High        Low      Close  \\\n",
            "Date                                                                    \n",
            "2019-01-02 00:00:00-05:00  48.764273  50.326118  48.521317  49.805504   \n",
            "2019-01-03 00:00:00-05:00  48.547348  49.319593  48.174241  48.330425   \n",
            "2019-01-04 00:00:00-05:00  49.024583  49.310923  47.905260  49.111351   \n",
            "2019-01-07 00:00:00-05:00  48.929135  49.597258  48.547352  48.972519   \n",
            "2019-01-08 00:00:00-05:00  49.206792  49.354302  48.252333  48.547348   \n",
            "\n",
            "                             Volume  Dividends  Stock Splits  \n",
            "Date                                                          \n",
            "2019-01-02 00:00:00-05:00   9896600        0.0           0.0  \n",
            "2019-01-03 00:00:00-05:00  14422200        0.0           0.0  \n",
            "2019-01-04 00:00:00-05:00  14177300        0.0           0.0  \n",
            "2019-01-07 00:00:00-05:00  12352000        0.0           0.0  \n",
            "2019-01-08 00:00:00-05:00  12110000        0.0           0.0  \n",
            "\n",
            "Data for MU:\n",
            "                                Open       High        Low      Close  \\\n",
            "Date                                                                    \n",
            "2019-01-02 00:00:00-05:00  30.419370  32.460414  30.174053  32.136593   \n",
            "2019-01-03 00:00:00-05:00  31.224008  31.547829  30.281990  30.419367   \n",
            "2019-01-04 00:00:00-05:00  31.067007  32.421160  30.959066  32.087528   \n",
            "2019-01-07 00:00:00-05:00  33.068798  33.804750  32.686103  33.363178   \n",
            "2019-01-08 00:00:00-05:00  33.902878  33.942129  32.195470  33.108051   \n",
            "\n",
            "                             Volume  Dividends  Stock Splits  \n",
            "Date                                                          \n",
            "2019-01-02 00:00:00-05:00  26004300        0.0           0.0  \n",
            "2019-01-03 00:00:00-05:00  29145500        0.0           0.0  \n",
            "2019-01-04 00:00:00-05:00  28557300        0.0           0.0  \n",
            "2019-01-07 00:00:00-05:00  44841500        0.0           0.0  \n",
            "2019-01-08 00:00:00-05:00  33434100        0.0           0.0  \n",
            "\n"
          ]
        }
      ],
      "source": [
        "data = {} # create an empty dictionary for storage of data\n",
        "\n",
        "#Looping through the dictionary\n",
        "for symbol in stock_symbols:\n",
        "    #Getting the data from the API\n",
        "    ticker = yf.Ticker(symbol)\n",
        "    data[symbol] = ticker.history(start = start_date, end = end_date)\n",
        "\n",
        "#printing the data\n",
        "\n",
        "for symbol, df in data.items():\n",
        "    print(f'Data for {symbol}:')\n",
        "    print(df.head()) # printing the first 5 rows of the data for a small glance\n",
        "    print()\n",
        "\n",
        "stock_data = pd.concat(data, keys = data.keys())\n",
        "\n"
      ]
    },
    {
      "cell_type": "code",
      "execution_count": null,
      "metadata": {
        "id": "k9LuIu6MroxV"
      },
      "outputs": [],
      "source": [
        "stock_data.to_csv('stock_data.csv', index=False)"
      ]
    },
    {
      "cell_type": "markdown",
      "metadata": {
        "id": "fOVPUAXSroxV"
      },
      "source": [
        "Scrape News articles"
      ]
    },
    {
      "cell_type": "code",
      "execution_count": 3,
      "metadata": {
        "id": "nDmSuui_roxV",
        "outputId": "379bb901-75a6-44ea-8467-aca7823f3a00",
        "colab": {
          "base_uri": "https://localhost:8080/"
        }
      },
      "outputs": [
        {
          "output_type": "stream",
          "name": "stdout",
          "text": [
            "Requirement already satisfied: requests in /usr/local/lib/python3.10/dist-packages (2.32.3)\n",
            "Requirement already satisfied: charset-normalizer<4,>=2 in /usr/local/lib/python3.10/dist-packages (from requests) (3.4.0)\n",
            "Requirement already satisfied: idna<4,>=2.5 in /usr/local/lib/python3.10/dist-packages (from requests) (3.10)\n",
            "Requirement already satisfied: urllib3<3,>=1.21.1 in /usr/local/lib/python3.10/dist-packages (from requests) (2.2.3)\n",
            "Requirement already satisfied: certifi>=2017.4.17 in /usr/local/lib/python3.10/dist-packages (from requests) (2024.8.30)\n",
            "Requirement already satisfied: transformers in /usr/local/lib/python3.10/dist-packages (4.46.3)\n",
            "Requirement already satisfied: filelock in /usr/local/lib/python3.10/dist-packages (from transformers) (3.16.1)\n",
            "Requirement already satisfied: huggingface-hub<1.0,>=0.23.2 in /usr/local/lib/python3.10/dist-packages (from transformers) (0.26.3)\n",
            "Requirement already satisfied: numpy>=1.17 in /usr/local/lib/python3.10/dist-packages (from transformers) (1.26.4)\n",
            "Requirement already satisfied: packaging>=20.0 in /usr/local/lib/python3.10/dist-packages (from transformers) (24.2)\n",
            "Requirement already satisfied: pyyaml>=5.1 in /usr/local/lib/python3.10/dist-packages (from transformers) (6.0.2)\n",
            "Requirement already satisfied: regex!=2019.12.17 in /usr/local/lib/python3.10/dist-packages (from transformers) (2024.9.11)\n",
            "Requirement already satisfied: requests in /usr/local/lib/python3.10/dist-packages (from transformers) (2.32.3)\n",
            "Requirement already satisfied: tokenizers<0.21,>=0.20 in /usr/local/lib/python3.10/dist-packages (from transformers) (0.20.3)\n",
            "Requirement already satisfied: safetensors>=0.4.1 in /usr/local/lib/python3.10/dist-packages (from transformers) (0.4.5)\n",
            "Requirement already satisfied: tqdm>=4.27 in /usr/local/lib/python3.10/dist-packages (from transformers) (4.66.6)\n",
            "Requirement already satisfied: fsspec>=2023.5.0 in /usr/local/lib/python3.10/dist-packages (from huggingface-hub<1.0,>=0.23.2->transformers) (2024.10.0)\n",
            "Requirement already satisfied: typing-extensions>=3.7.4.3 in /usr/local/lib/python3.10/dist-packages (from huggingface-hub<1.0,>=0.23.2->transformers) (4.12.2)\n",
            "Requirement already satisfied: charset-normalizer<4,>=2 in /usr/local/lib/python3.10/dist-packages (from requests->transformers) (3.4.0)\n",
            "Requirement already satisfied: idna<4,>=2.5 in /usr/local/lib/python3.10/dist-packages (from requests->transformers) (3.10)\n",
            "Requirement already satisfied: urllib3<3,>=1.21.1 in /usr/local/lib/python3.10/dist-packages (from requests->transformers) (2.2.3)\n",
            "Requirement already satisfied: certifi>=2017.4.17 in /usr/local/lib/python3.10/dist-packages (from requests->transformers) (2024.8.30)\n"
          ]
        }
      ],
      "source": [
        "!pip install requests\n",
        "!pip install transformers"
      ]
    },
    {
      "cell_type": "code",
      "source": [
        "!pip install tavily-python"
      ],
      "metadata": {
        "id": "Bv3v3ywNtqVX",
        "outputId": "885235b4-4417-4f3e-f323-f307ae48a193",
        "colab": {
          "base_uri": "https://localhost:8080/"
        }
      },
      "execution_count": 4,
      "outputs": [
        {
          "output_type": "stream",
          "name": "stdout",
          "text": [
            "Collecting tavily-python\n",
            "  Downloading tavily_python-0.5.0-py3-none-any.whl.metadata (11 kB)\n",
            "Requirement already satisfied: requests in /usr/local/lib/python3.10/dist-packages (from tavily-python) (2.32.3)\n",
            "Collecting tiktoken>=0.5.1 (from tavily-python)\n",
            "  Downloading tiktoken-0.8.0-cp310-cp310-manylinux_2_17_x86_64.manylinux2014_x86_64.whl.metadata (6.6 kB)\n",
            "Requirement already satisfied: httpx in /usr/local/lib/python3.10/dist-packages (from tavily-python) (0.28.0)\n",
            "Requirement already satisfied: regex>=2022.1.18 in /usr/local/lib/python3.10/dist-packages (from tiktoken>=0.5.1->tavily-python) (2024.9.11)\n",
            "Requirement already satisfied: charset-normalizer<4,>=2 in /usr/local/lib/python3.10/dist-packages (from requests->tavily-python) (3.4.0)\n",
            "Requirement already satisfied: idna<4,>=2.5 in /usr/local/lib/python3.10/dist-packages (from requests->tavily-python) (3.10)\n",
            "Requirement already satisfied: urllib3<3,>=1.21.1 in /usr/local/lib/python3.10/dist-packages (from requests->tavily-python) (2.2.3)\n",
            "Requirement already satisfied: certifi>=2017.4.17 in /usr/local/lib/python3.10/dist-packages (from requests->tavily-python) (2024.8.30)\n",
            "Requirement already satisfied: anyio in /usr/local/lib/python3.10/dist-packages (from httpx->tavily-python) (3.7.1)\n",
            "Requirement already satisfied: httpcore==1.* in /usr/local/lib/python3.10/dist-packages (from httpx->tavily-python) (1.0.7)\n",
            "Requirement already satisfied: h11<0.15,>=0.13 in /usr/local/lib/python3.10/dist-packages (from httpcore==1.*->httpx->tavily-python) (0.14.0)\n",
            "Requirement already satisfied: sniffio>=1.1 in /usr/local/lib/python3.10/dist-packages (from anyio->httpx->tavily-python) (1.3.1)\n",
            "Requirement already satisfied: exceptiongroup in /usr/local/lib/python3.10/dist-packages (from anyio->httpx->tavily-python) (1.2.2)\n",
            "Downloading tavily_python-0.5.0-py3-none-any.whl (14 kB)\n",
            "Downloading tiktoken-0.8.0-cp310-cp310-manylinux_2_17_x86_64.manylinux2014_x86_64.whl (1.2 MB)\n",
            "\u001b[2K   \u001b[90m━━━━━━━━━━━━━━━━━━━━━━━━━━━━━━━━━━━━━━━━\u001b[0m \u001b[32m1.2/1.2 MB\u001b[0m \u001b[31m17.7 MB/s\u001b[0m eta \u001b[36m0:00:00\u001b[0m\n",
            "\u001b[?25hInstalling collected packages: tiktoken, tavily-python\n",
            "Successfully installed tavily-python-0.5.0 tiktoken-0.8.0\n"
          ]
        }
      ]
    },
    {
      "cell_type": "code",
      "execution_count": 5,
      "metadata": {
        "id": "jnRvxej6roxV"
      },
      "outputs": [],
      "source": [
        "import os\n",
        "from tavily import TavilyClient\n",
        "\n",
        "# Set the API key directly\n",
        "os.environ['TAVILY_API_KEY'] = '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'\n",
        "\n",
        "# Connect to Tavily\n",
        "client = TavilyClient(api_key=os.environ.get(\"TAVILY_API_KEY\"))"
      ]
    },
    {
      "cell_type": "markdown",
      "metadata": {
        "id": "ABsSddrsroxV"
      },
      "source": [
        "# Nvida news articles"
      ]
    },
    {
      "cell_type": "code",
      "execution_count": null,
      "metadata": {
        "id": "krIGjqpnroxW"
      },
      "outputs": [],
      "source": [
        "result = client.search(\"NVIDIA news articles with summary\",\n",
        "                       include_answer=True,\n",
        "                       parameters={\"answer_type\": \"news\", \"summary\": True})\n",
        "\n",
        "import pandas as pd\n",
        "\n",
        "# Create a DataFrame to store the results\n",
        "df = pd.DataFrame([{\"title\": result[\"title\"], \"summary\": result[\"summary\"]}])\n",
        "\n",
        "# Save the DataFrame to a CSV file\n",
        "df.to_csv('nvidia_news_articles_with_summary.csv', index=False)"
      ]
    },
    {
      "cell_type": "code",
      "execution_count": null,
      "metadata": {
        "id": "LagjD9YVroxW",
        "outputId": "558a05eb-1f25-4995-edb6-3822db280887"
      },
      "outputs": [
        {
          "name": "stdout",
          "output_type": "stream",
          "text": [
            "{'query': 'NVIDIA news articles with summary', 'follow_up_questions': None, 'answer': \"NVIDIA recently announced collaborations with Google Quantum AI for quantum computing device design, the adoption of NVIDIA BioNeMo Framework in drug discovery, and working with the cloud-native community to advance AI and ML. Jensen Huang, NVIDIA's CEO, unveiled new cloud services supporting AI workflows and the launch of next-gen RTX GPUs during the recent GTC keynote. The company is also partnering with Deloitte to bring AI and Omniverse services to enterprises. NVIDIA's Omniverse is gaining wide adoption, with new products like the Jetson Orin Nano for Robotics being introduced.\", 'images': [], 'results': [{'title': 'News Archive | NVIDIA Newsroom', 'url': 'https://nvidianews.nvidia.com/news', 'content': 'News Archive | NVIDIA Newsroom About NVIDIA NVIDIA Blog NVIDIA Blog NVIDIA Blog SC24 -- NVIDIA today announced an NVIDIA Omniverse™ Blueprint that enables industry software developers to help their computer-aided engineering (CAE) customers in aerospace, automotive, manufacturing, energy and other industries create digital ... NVIDIA today announced it is working with Google Quantum AI to accelerate the design of its next-generation quantum computing devices using simulations powered by the NVIDIA CUDA-Q™ platform. NVIDIA today announced that global pharmaceutical and techbio industry leaders, academic pioneers and AI researchers are adopting the open-source NVIDIA® BioNeMo™ Framework to advance drug discovery and accelerate molecule design. Open for Development: NVIDIA Works With Cloud-Native Community to Advance AI and ML About NVIDIA NVIDIA Blog', 'score': 0.97796774, 'raw_content': None}, {'title': 'Keynote Wrap-Up: NVIDIA CEO Unveils Next-Gen RTX GPUs, AI Workflows in ...', 'url': 'https://blogs.nvidia.com/blog/keynote-gtc-nvidia-ceo/', 'content': 'All NVIDIA News\\nInstant Latte: NVIDIA Gen AI Research Brews 3D Shapes in Under a Second\\n‘You Transformed the World,’ NVIDIA CEO Tells Researchers Behind Landmark AI Paper\\nAI Decoded From GTC: The Latest Developer Tools and Apps Accelerating AI on PC and Workstation\\nSecure by Design: NVIDIA AIOps Partner Ecosystem Blends AI for Businesses\\nClimate Pioneers: 3 Startups Harnessing NVIDIA’s AI and Earth-2 Platforms\\nPost navigation\\nCorporate Information\\nGet Involved\\nNews & Events\\nNVIDIA websites use cookies to deliver and improve the website experience. Thor will be the processor for robotics, medical instruments, industrial automation and edge AI systems, Huang said.\\n3.5 Million Developers, 3,000 Accelerated Applications\\nBringing NVIDIA’s systems and silicon, and the benefits of accelerated computing, to industries around the world, is a software ecosystem with more than 3.5 million developers creating some 3,000 accelerated apps using NVIDIA’s 550 software development kits, or SDKs, and AI models, Huang announced.\\n Deloitte to Bring AI, Omniverse Services to Enterprises\\nAnd to speed the adoption of all these technologies to the world’s enterprises, Deloitte, the world’s largest professional services firm, is bringing new services built on NVIDIA AI and NVIDIA Omniverse to the world’s enterprises, Huang announced.\\n Keynote Wrap-Up: NVIDIA CEO Unveils Next-Gen RTX GPUs, AI Workflows in the Cloud\\nNew cloud services to support AI workflows and the launch of a new generation of GeForce RTX GPUs featured today in NVIDIA CEO Jensen Huang’s GTC keynote, which was packed with new systems, silicon, and software.\\n Omniverse is seeing wide adoption, and Huang shared several customer stories and demos:\\nNew Jetson Orin Nano for Robotics\\nShifting from virtual worlds to machines that will move through their world, robotic computers “are the newest types of computers,” Huang said, describing NVIDIA’s second-generation processor for robotics, Orin, as a homerun.\\n', 'score': 0.97324073, 'raw_content': None}, {'title': 'Nvidia, Powered by A.I. Boom, Reports Soaring Revenue and Profits', 'url': 'https://www.nytimes.com/2024/05/22/technology/nvidia-quarterly-earnings-results.html', 'content': 'The company reported revenue of $26 billion in its latest quarter, tripling its sales from a year earlier. Jim Wilson/The New York Times. Nvidia, which makes microchips that power most artificial', 'score': 0.86703575, 'raw_content': None}, {'title': \"Nvidia's Q3 profit and revenue surge on AI chip demand | AP News\", 'url': 'https://apnews.com/article/nvidia-ai-earnings-report-adc942aa0e0c5d1a550b7bad486b942a', 'content': \"Nvidia's Q3 profit and revenue surge on AI chip demand | AP News AP Top 25 AP Top 25 AP Top 25 NFL NBA NHL Men’s College Basketball Women’s College Basketball MLB Auto Racing Movie Reviews What to Stream Television Book Reviews Music Celebrity Interviews Back to school Food & Recipes Gardening Homes Travel Fashion Pets LOS ANGELES (AP) — Nvidia on Wednesday reported a surge in third-quarter profit and sales as demand for its specialized computer chips that power artificial intelligence systems remains robust. Nvidia has led the artificial intelligence sector to become one of the stock market’s biggest companies, as tech giants spend heavily on the company’s chips and data centers needed to train and operate their AI systems.\", 'score': 0.84117436, 'raw_content': None}, {'title': 'Latest News - NVIDIA Newsroom', 'url': 'https://nvidianews.nvidia.com/news/latest', 'content': 'What Is a SuperNIC?\\nNVIDIA’s New Ethernet Networking Platform for AI Available Soon From Dell Technologies, Hewlett Packard Enterprise, Lenovo\\nFrom Guangzhou to Los Angeles, Automakers Dazzle With AI-Powered Vehicles\\nAI to See “Major Second Wave,” NVIDIA CEO Says in Fireside Chat With iliad Group Exec\\nDropbox and NVIDIA Team to Bring Personalized Generative AI to Millions of Customers\\nNVIDIA and Scaleway Speed Development for European Startups and Enterprises\\nAI Training AI: GatorTronGPT at the Forefront of University of Florida’s Medical AI Innovations\\nThree Ways Generative AI Can Bolster Cybersecurity\\nInto the Omniverse: OpenUSD Enhancements for Autodesk Maya Make 3D Workflows a Ferret-Tale\\nMore Games, More Wins: PC Game Pass Included With Six-Month GeForce NOW Memberships\\nRinging in the Future: Aspiring Computer Science Major Experiences NVIDIA Life With Make-A-Wish Visit\\nAI-Powered Tech Company Helps Grocers Start Afresh in Supply Chain Management\\nNVIDIA Announces Financial Results for Third Quarter Fiscal 2024\\nNVIDIA Collaborates With Genentech to Accelerate Drug Discovery Using Generative AI\\n3D Artist Cooks Up Stunningly Photorealistic Food Renders This Week ‘In the NVIDIA Studio’\\n NVIDIA and Amdocs Bring Custom Generative AI to Global Telco Industry\\nIn the Fast Lane: NVIDIA Announces Omniverse Cloud Services on Microsoft Azure to Accelerate Automotive Digitalization\\nNew NVIDIA H100, H200 Tensor Core GPU Instances Coming to Microsoft Azure to Accelerate AI What Is Retrieval-Augmented Generation?\\nIgniting the Future: TensorRT-LLM Release Accelerates AI Inference Performance, Adds Support for New Models Running on RTX-Powered Windows 11 PCs\\nNVIDIA Introduces Generative AI Foundry Service on Microsoft Azure for Enterprises and Startups Worldwide\\nChallenge Accepted: Animator Wade Neistadt Leads Robotic Revolution in Record Time Latest News\\nHungry for Gaming: 18 New Games to Join GeForce NOW\\nNVIDIA Announces Upcoming Events for Financial Community\\nTeenage Dream:', 'score': 0.81669897, 'raw_content': None}], 'response_time': 4.1}\n"
          ]
        }
      ],
      "source": [
        "print(result)"
      ]
    },
    {
      "cell_type": "markdown",
      "metadata": {
        "id": "P3jjkkg-roxW"
      },
      "source": [
        "Scraping and Analyzing news articles"
      ]
    },
    {
      "cell_type": "markdown",
      "metadata": {
        "id": "EKDcD9ymroxW"
      },
      "source": [
        "# AMD news articles"
      ]
    },
    {
      "cell_type": "code",
      "execution_count": null,
      "metadata": {
        "id": "Osx5JSYcroxW",
        "outputId": "f63c98a0-978b-4467-b386-960cd27f9262"
      },
      "outputs": [
        {
          "name": "stdout",
          "output_type": "stream",
          "text": [
            "AMD news articles saved successfully!\n"
          ]
        }
      ],
      "source": [
        "result = client.search(\"Advanced Micro Devices news articles with summary\",\n",
        "                       include_answer=True,\n",
        "                       parameters={\"answer_type\": \"news\", \"summary\": True})\n",
        "\n",
        "import pandas as pd\n",
        "\n",
        "# Extract articles\n",
        "data = []\n",
        "for article in result.get(\"results\", []):  # Iterate through the results list\n",
        "    data.append({\n",
        "        \"title\": article.get(\"title\", \"No Title\"),   # Default if 'title' is missing\n",
        "        \"summary\": article.get(\"content\", \"No Summary\")  # Use 'content' for summaries\n",
        "    })\n",
        "\n",
        "# Create a DataFrame\n",
        "df = pd.DataFrame(data)\n",
        "\n",
        "# Save to CSV\n",
        "df.to_csv('AMD_news_articles_with_summary.csv', index=False)\n",
        "\n",
        "print(\"AMD news articles saved successfully!\")\n"
      ]
    },
    {
      "cell_type": "markdown",
      "metadata": {
        "id": "4A1e7yKAroxX"
      },
      "source": [
        "# Qualcomm Incorporated news articles"
      ]
    },
    {
      "cell_type": "code",
      "execution_count": null,
      "metadata": {
        "id": "htkvhrWFroxX",
        "outputId": "f6d5cf97-4cb0-4082-e02e-5154c27a6267"
      },
      "outputs": [
        {
          "name": "stdout",
          "output_type": "stream",
          "text": [
            "Qualcomm news articles saved successfully!\n"
          ]
        }
      ],
      "source": [
        "result = client.search(\"Qualcomm Incorporated news articles with summary\",\n",
        "                       include_answer=True,\n",
        "                       parameters={\"answer_type\": \"news\", \"summary\": True})\n",
        "\n",
        "import pandas as pd\n",
        "\n",
        "# Extract articles\n",
        "data = []\n",
        "for article in result.get(\"results\", []):  # Iterate through the results list\n",
        "    data.append({\n",
        "        \"title\": article.get(\"title\", \"No Title\"),   # Default if 'title' is missing\n",
        "        \"summary\": article.get(\"content\", \"No Summary\")  # Use 'content' for summaries\n",
        "    })\n",
        "\n",
        "# Create a DataFrame\n",
        "df = pd.DataFrame(data)\n",
        "\n",
        "# Save to CSV\n",
        "df.to_csv('Qualcomm_Inc_news_articles_with_summary.csv', index=False)\n",
        "\n",
        "print(\"Qualcomm news articles saved successfully!\")\n"
      ]
    },
    {
      "cell_type": "markdown",
      "metadata": {
        "id": "HI9hCicSroxX"
      },
      "source": [
        "# Broadcom news articles"
      ]
    },
    {
      "cell_type": "code",
      "execution_count": null,
      "metadata": {
        "id": "OapZHYS9roxX",
        "outputId": "ab85256b-6c4f-4733-d994-2fb4cbc1d6c6"
      },
      "outputs": [
        {
          "name": "stdout",
          "output_type": "stream",
          "text": [
            "Broadcom news articles saved successfully!\n"
          ]
        }
      ],
      "source": [
        "result = client.search(\"Broadcom news articles with summary\",\n",
        "                       include_answer=True,\n",
        "                       parameters={\"answer_type\": \"news\", \"summary\": True})\n",
        "\n",
        "\n",
        "# Extract articles\n",
        "data = []\n",
        "for article in result.get(\"results\", []):  # Iterate through the results list\n",
        "    data.append({\n",
        "        \"title\": article.get(\"title\", \"No Title\"),   # Default to \"No Title\" if missing\n",
        "        \"summary\": article.get(\"content\", \"No Summary\")  # Use 'content' for summaries\n",
        "    })\n",
        "\n",
        "# Create a DataFrame\n",
        "df = pd.DataFrame(data)\n",
        "\n",
        "# Save to CSV\n",
        "df.to_csv('Broadcom_news_articles_with_summary.csv', index=False)\n",
        "\n",
        "print(\"Broadcom news articles saved successfully!\")\n"
      ]
    },
    {
      "cell_type": "markdown",
      "metadata": {
        "id": "0PKjsbFyroxX"
      },
      "source": [
        "# Micron News Articles"
      ]
    },
    {
      "cell_type": "code",
      "execution_count": null,
      "metadata": {
        "id": "zfm_LebhroxX",
        "outputId": "56224730-8854-48d2-a97f-74301577bbfa"
      },
      "outputs": [
        {
          "name": "stdout",
          "output_type": "stream",
          "text": [
            "Micron news articles saved successfully!\n"
          ]
        }
      ],
      "source": [
        "result = client.search(\"Micron Technology news articles with summary\",\n",
        "                       include_answer=True,\n",
        "                       parameters={\"answer_type\": \"news\", \"summary\": True})\n",
        "\n",
        "\n",
        "# Extract articles\n",
        "data = []\n",
        "for article in result.get(\"results\", []):  # Iterate through the results list\n",
        "    data.append({\n",
        "        \"title\": article.get(\"title\", \"No Title\"),   # Default to \"No Title\" if missing\n",
        "        \"summary\": article.get(\"content\", \"No Summary\")  # Use 'content' for summaries\n",
        "    })\n",
        "\n",
        "# Create a DataFrame\n",
        "df = pd.DataFrame(data)\n",
        "\n",
        "# Save to CSV\n",
        "df.to_csv('Micron_Tech_news_articles_with_summary.csv', index=False)\n",
        "\n",
        "print(\"Micron news articles saved successfully!\")\n"
      ]
    },
    {
      "cell_type": "markdown",
      "metadata": {
        "id": "5jDSaH9proxY"
      },
      "source": [
        "# Sentiment Analysis / Project Steps"
      ]
    },
    {
      "cell_type": "markdown",
      "metadata": {
        "id": "AVHQAa5eroxY"
      },
      "source": [
        "# Importing the Libraries"
      ]
    },
    {
      "cell_type": "code",
      "execution_count": 6,
      "metadata": {
        "id": "ERS47Wl1roxY"
      },
      "outputs": [],
      "source": [
        "import pandas as pd\n",
        "import numpy as np\n",
        "from sklearn.preprocessing import MinMaxScaler\n",
        "from keras.models import Model\n",
        "from keras.layers import Input, Dense, Concatenate, LSTM\n",
        "from transformers import pipeline # Using this for the BERT model for finance.\n",
        "\n"
      ]
    },
    {
      "cell_type": "markdown",
      "metadata": {
        "id": "WwCoUGmBroxY"
      },
      "source": [
        "# Combining Data"
      ]
    },
    {
      "cell_type": "code",
      "execution_count": 8,
      "metadata": {
        "id": "h_6kSHFCroxY",
        "outputId": "bc5f9c83-ca9f-4584-efd0-1a7fcb36c101",
        "colab": {
          "base_uri": "https://localhost:8080/"
        }
      },
      "outputs": [
        {
          "output_type": "stream",
          "name": "stdout",
          "text": [
            "Error reading file AMD_news_articles_with_summary.csv.\n"
          ]
        }
      ],
      "source": [
        "import os\n",
        "os.getcwd()\n",
        "\n",
        "file_names = ['AMD_news_articles_with_summary.csv',\n",
        "              'Broadcom_news_articles_with_summary.csv',\n",
        "              'Micron_Tech_news_articles_with_summary.csv',\n",
        "              'nvidia_news_articles_with_summary.csv',\n",
        "              'Qualcomm_Inc_news_articles_with_summary.csv']\n",
        "\n",
        "# All Files stored in same directory\n",
        "\n",
        "directory = \".\"\n",
        "\n",
        "combined_news_data = pd.DataFrame() # Creating an empty df for the data.\n",
        "\n",
        "#Looping through the files and appending all the data into one\n",
        "\n",
        "for file_name in file_names:\n",
        "    file_path = os.path.join(directory, file_name)\n",
        "    try:\n",
        "        all_stock_news = pd.read_csv(file_path)\n",
        "        combined_news_data = pd.concat([combined_news_data, all_stock_news], ignore_index=True)\n",
        "    except:\n",
        "        print(f\"Error reading file {file_name}.\")\n",
        "\n",
        "#saving to a new file\n",
        "\n",
        "output_file = os.path.join(directory, \"combined_news_articles_wtih_summaries.csv\")\n",
        "combined_news_data.to_csv(output_file, index=False)\n",
        "\n"
      ]
    },
    {
      "cell_type": "code",
      "source": [
        "import string\n",
        "\n",
        "# Function to preprocess text\n",
        "def preprocess_text(text):\n",
        "    # Remove punctuation\n",
        "    text = text.translate(str.maketrans('', '', string.punctuation))\n",
        "    # Convert to lowercase\n",
        "    text = text.lower()\n",
        "    # Strip whitespace\n",
        "    text = text.strip()\n",
        "    return text\n",
        "\n",
        "# Apply preprocessing to the Summary column\n",
        "combined_news_data['clean_summary'] = combined_news_data['summary'].apply(preprocess_text)\n",
        "\n",
        "# Initialize FinBERT sentiment analysis pipeline\n",
        "sentiment_pipeline = pipeline(\"sentiment-analysis\", model=\"yiyanghkust/finbert-tone\")\n",
        "\n",
        "# Apply sentiment analysis to preprocessed summaries\n",
        "combined_news_data['sentiment'] = combined_news_data['clean_summary'].apply(lambda text: sentiment_pipeline(text)[0]['score'])\n",
        "\n",
        "# Inspect the data with sentiment scores\n",
        "print(combined_news_data[['title', 'summary', 'clean_summary', 'sentiment']].head())\n"
      ],
      "metadata": {
        "id": "YnCuCWUWvl6J",
        "outputId": "82eeb6b1-d4ad-46da-c156-ab51b2129c1f",
        "colab": {
          "base_uri": "https://localhost:8080/",
          "height": 598,
          "referenced_widgets": [
            "f17f42d89a424549a5931ddeab97c5da",
            "502cce393d7847dfad6e0bb8785dd74f",
            "4b265cd5dd26488aa926785672ddeba4",
            "83d2d395315846e79c366bbf4adf1663",
            "598aeccf831542a299a75a740a3f205a",
            "a397d5b3cadf4bbebbfb3df497a29ba7",
            "abcca784e2444000acb7a29f2d149160",
            "58b899687d294b4f8d062912491945ac",
            "38b0fde6f5d849c192776bab52e2e7b2",
            "72c7a3cf462049d480cb22cb91e9c31f",
            "4ac2757d83004302b62d66a18d133557",
            "8302c3be68d04e7d8e759653381482c3",
            "14a2fcbd1cb64fc2a925ca57f2566c67",
            "dc7208d99384421996ec6297e88367f6",
            "ca800bb6a0c94384bc885f3c5d291f05",
            "0b9964fd94c1448db88d889e03ac92b1",
            "36ef79d08e9b41e892b5d6b0b1407c0a",
            "6a7698ed8d944ec89494814bea8f5ccb",
            "51ff031835304ad08da4f3ed4973f7b7",
            "e96d861e173d4942b7312972f53489a7",
            "539a8d3128154512b52e96a215cc9511",
            "7e88d1c241cd46e795958f488bb8c268",
            "74181092dfae449d879f8fed0f5b3fa8",
            "b2c30237b6c04ea693b16e2f36eeff60",
            "60c396b7dffa42cb99548a7d8757799d",
            "22376b0a447148e2a4645598742923d7",
            "dc619e1d4b964ff2a71a736c1c3143b0",
            "b7bfb9ec872b4b4ea2b684b8f7ac1004",
            "ea6806c4277642629cbe5a22f4759b88",
            "27983198535c45f8b28566d4d08b5ad2",
            "4996e98be1564fd186f00c28ca77b217",
            "4dc2eacbca49416f934d1469c2235493",
            "a4c1c7734e1d4166bf8072eaffcfc2f2"
          ]
        }
      },
      "execution_count": 9,
      "outputs": [
        {
          "output_type": "stream",
          "name": "stderr",
          "text": [
            "/usr/local/lib/python3.10/dist-packages/huggingface_hub/utils/_auth.py:94: UserWarning: \n",
            "The secret `HF_TOKEN` does not exist in your Colab secrets.\n",
            "To authenticate with the Hugging Face Hub, create a token in your settings tab (https://huggingface.co/settings/tokens), set it as secret in your Google Colab and restart your session.\n",
            "You will be able to reuse this secret in all of your notebooks.\n",
            "Please note that authentication is recommended but still optional to access public models or datasets.\n",
            "  warnings.warn(\n"
          ]
        },
        {
          "output_type": "display_data",
          "data": {
            "text/plain": [
              "config.json:   0%|          | 0.00/533 [00:00<?, ?B/s]"
            ],
            "application/vnd.jupyter.widget-view+json": {
              "version_major": 2,
              "version_minor": 0,
              "model_id": "f17f42d89a424549a5931ddeab97c5da"
            }
          },
          "metadata": {}
        },
        {
          "output_type": "display_data",
          "data": {
            "text/plain": [
              "pytorch_model.bin:   0%|          | 0.00/439M [00:00<?, ?B/s]"
            ],
            "application/vnd.jupyter.widget-view+json": {
              "version_major": 2,
              "version_minor": 0,
              "model_id": "8302c3be68d04e7d8e759653381482c3"
            }
          },
          "metadata": {}
        },
        {
          "output_type": "display_data",
          "data": {
            "text/plain": [
              "vocab.txt:   0%|          | 0.00/226k [00:00<?, ?B/s]"
            ],
            "application/vnd.jupyter.widget-view+json": {
              "version_major": 2,
              "version_minor": 0,
              "model_id": "74181092dfae449d879f8fed0f5b3fa8"
            }
          },
          "metadata": {}
        },
        {
          "output_type": "stream",
          "name": "stdout",
          "text": [
            "                                               title  \\\n",
            "0  Broadcom Completes Acquisition of VMware | Bro...   \n",
            "1  Exclusive: OpenAI builds first chip with Broad...   \n",
            "2  Broadcom's Software Expansion And AI Potential...   \n",
            "3                Stories - Broadcom News and Stories   \n",
            "4              News News - Broadcom News and Stories   \n",
            "\n",
            "                                             summary  \\\n",
            "0  SAN JOSE, Calif., Nov. 22, 2023 /PRNewswire/ -...   \n",
            "1  Broadcom helps companies including Alphabet , ...   \n",
            "2  [+] by Rafael Henrique/SOPA Images/LightRocket...   \n",
            "3  Broadcom Advances Security and Performance for...   \n",
            "4  News In The News View all News News In The New...   \n",
            "\n",
            "                                       clean_summary  sentiment  \n",
            "0  san jose calif nov 22 2023 prnewswire  broadco...   0.999818  \n",
            "1  broadcom helps companies including alphabet  o...   0.931180  \n",
            "2  by rafael henriquesopa imageslightrocket via g...   1.000000  \n",
            "3  broadcom advances security and performance for...   0.745524  \n",
            "4  news in the news view all news news in the new...   0.838625  \n"
          ]
        }
      ]
    },
    {
      "cell_type": "markdown",
      "source": [
        "Loading SOXL Data"
      ],
      "metadata": {
        "id": "L83VcY8ncXdQ"
      }
    },
    {
      "cell_type": "code",
      "source": [
        "soxl_stock_data = pd.read_csv('SOXL_stock_data.csv')"
      ],
      "metadata": {
        "id": "CiaC0DHKcXIh"
      },
      "execution_count": 10,
      "outputs": []
    },
    {
      "cell_type": "code",
      "source": [],
      "metadata": {
        "id": "41Aw_9o9c5df"
      },
      "execution_count": null,
      "outputs": []
    },
    {
      "cell_type": "markdown",
      "source": [
        "Using Feature Engineering and Alignment"
      ],
      "metadata": {
        "id": "IV9TzEdkclL8"
      }
    }
  ],
  "metadata": {
    "kernelspec": {
      "display_name": "Python 3",
      "name": "python3"
    },
    "language_info": {
      "codemirror_mode": {
        "name": "ipython",
        "version": 3
      },
      "file_extension": ".py",
      "mimetype": "text/x-python",
      "name": "python",
      "nbconvert_exporter": "python",
      "pygments_lexer": "ipython3",
      "version": "3.11.5"
    },
    "colab": {
      "provenance": []
    },
    "widgets": {
      "application/vnd.jupyter.widget-state+json": {
        "f17f42d89a424549a5931ddeab97c5da": {
          "model_module": "@jupyter-widgets/controls",
          "model_name": "HBoxModel",
          "model_module_version": "1.5.0",
          "state": {
            "_dom_classes": [],
            "_model_module": "@jupyter-widgets/controls",
            "_model_module_version": "1.5.0",
            "_model_name": "HBoxModel",
            "_view_count": null,
            "_view_module": "@jupyter-widgets/controls",
            "_view_module_version": "1.5.0",
            "_view_name": "HBoxView",
            "box_style": "",
            "children": [
              "IPY_MODEL_502cce393d7847dfad6e0bb8785dd74f",
              "IPY_MODEL_4b265cd5dd26488aa926785672ddeba4",
              "IPY_MODEL_83d2d395315846e79c366bbf4adf1663"
            ],
            "layout": "IPY_MODEL_598aeccf831542a299a75a740a3f205a"
          }
        },
        "502cce393d7847dfad6e0bb8785dd74f": {
          "model_module": "@jupyter-widgets/controls",
          "model_name": "HTMLModel",
          "model_module_version": "1.5.0",
          "state": {
            "_dom_classes": [],
            "_model_module": "@jupyter-widgets/controls",
            "_model_module_version": "1.5.0",
            "_model_name": "HTMLModel",
            "_view_count": null,
            "_view_module": "@jupyter-widgets/controls",
            "_view_module_version": "1.5.0",
            "_view_name": "HTMLView",
            "description": "",
            "description_tooltip": null,
            "layout": "IPY_MODEL_a397d5b3cadf4bbebbfb3df497a29ba7",
            "placeholder": "​",
            "style": "IPY_MODEL_abcca784e2444000acb7a29f2d149160",
            "value": "config.json: 100%"
          }
        },
        "4b265cd5dd26488aa926785672ddeba4": {
          "model_module": "@jupyter-widgets/controls",
          "model_name": "FloatProgressModel",
          "model_module_version": "1.5.0",
          "state": {
            "_dom_classes": [],
            "_model_module": "@jupyter-widgets/controls",
            "_model_module_version": "1.5.0",
            "_model_name": "FloatProgressModel",
            "_view_count": null,
            "_view_module": "@jupyter-widgets/controls",
            "_view_module_version": "1.5.0",
            "_view_name": "ProgressView",
            "bar_style": "success",
            "description": "",
            "description_tooltip": null,
            "layout": "IPY_MODEL_58b899687d294b4f8d062912491945ac",
            "max": 533,
            "min": 0,
            "orientation": "horizontal",
            "style": "IPY_MODEL_38b0fde6f5d849c192776bab52e2e7b2",
            "value": 533
          }
        },
        "83d2d395315846e79c366bbf4adf1663": {
          "model_module": "@jupyter-widgets/controls",
          "model_name": "HTMLModel",
          "model_module_version": "1.5.0",
          "state": {
            "_dom_classes": [],
            "_model_module": "@jupyter-widgets/controls",
            "_model_module_version": "1.5.0",
            "_model_name": "HTMLModel",
            "_view_count": null,
            "_view_module": "@jupyter-widgets/controls",
            "_view_module_version": "1.5.0",
            "_view_name": "HTMLView",
            "description": "",
            "description_tooltip": null,
            "layout": "IPY_MODEL_72c7a3cf462049d480cb22cb91e9c31f",
            "placeholder": "​",
            "style": "IPY_MODEL_4ac2757d83004302b62d66a18d133557",
            "value": " 533/533 [00:00&lt;00:00, 13.0kB/s]"
          }
        },
        "598aeccf831542a299a75a740a3f205a": {
          "model_module": "@jupyter-widgets/base",
          "model_name": "LayoutModel",
          "model_module_version": "1.2.0",
          "state": {
            "_model_module": "@jupyter-widgets/base",
            "_model_module_version": "1.2.0",
            "_model_name": "LayoutModel",
            "_view_count": null,
            "_view_module": "@jupyter-widgets/base",
            "_view_module_version": "1.2.0",
            "_view_name": "LayoutView",
            "align_content": null,
            "align_items": null,
            "align_self": null,
            "border": null,
            "bottom": null,
            "display": null,
            "flex": null,
            "flex_flow": null,
            "grid_area": null,
            "grid_auto_columns": null,
            "grid_auto_flow": null,
            "grid_auto_rows": null,
            "grid_column": null,
            "grid_gap": null,
            "grid_row": null,
            "grid_template_areas": null,
            "grid_template_columns": null,
            "grid_template_rows": null,
            "height": null,
            "justify_content": null,
            "justify_items": null,
            "left": null,
            "margin": null,
            "max_height": null,
            "max_width": null,
            "min_height": null,
            "min_width": null,
            "object_fit": null,
            "object_position": null,
            "order": null,
            "overflow": null,
            "overflow_x": null,
            "overflow_y": null,
            "padding": null,
            "right": null,
            "top": null,
            "visibility": null,
            "width": null
          }
        },
        "a397d5b3cadf4bbebbfb3df497a29ba7": {
          "model_module": "@jupyter-widgets/base",
          "model_name": "LayoutModel",
          "model_module_version": "1.2.0",
          "state": {
            "_model_module": "@jupyter-widgets/base",
            "_model_module_version": "1.2.0",
            "_model_name": "LayoutModel",
            "_view_count": null,
            "_view_module": "@jupyter-widgets/base",
            "_view_module_version": "1.2.0",
            "_view_name": "LayoutView",
            "align_content": null,
            "align_items": null,
            "align_self": null,
            "border": null,
            "bottom": null,
            "display": null,
            "flex": null,
            "flex_flow": null,
            "grid_area": null,
            "grid_auto_columns": null,
            "grid_auto_flow": null,
            "grid_auto_rows": null,
            "grid_column": null,
            "grid_gap": null,
            "grid_row": null,
            "grid_template_areas": null,
            "grid_template_columns": null,
            "grid_template_rows": null,
            "height": null,
            "justify_content": null,
            "justify_items": null,
            "left": null,
            "margin": null,
            "max_height": null,
            "max_width": null,
            "min_height": null,
            "min_width": null,
            "object_fit": null,
            "object_position": null,
            "order": null,
            "overflow": null,
            "overflow_x": null,
            "overflow_y": null,
            "padding": null,
            "right": null,
            "top": null,
            "visibility": null,
            "width": null
          }
        },
        "abcca784e2444000acb7a29f2d149160": {
          "model_module": "@jupyter-widgets/controls",
          "model_name": "DescriptionStyleModel",
          "model_module_version": "1.5.0",
          "state": {
            "_model_module": "@jupyter-widgets/controls",
            "_model_module_version": "1.5.0",
            "_model_name": "DescriptionStyleModel",
            "_view_count": null,
            "_view_module": "@jupyter-widgets/base",
            "_view_module_version": "1.2.0",
            "_view_name": "StyleView",
            "description_width": ""
          }
        },
        "58b899687d294b4f8d062912491945ac": {
          "model_module": "@jupyter-widgets/base",
          "model_name": "LayoutModel",
          "model_module_version": "1.2.0",
          "state": {
            "_model_module": "@jupyter-widgets/base",
            "_model_module_version": "1.2.0",
            "_model_name": "LayoutModel",
            "_view_count": null,
            "_view_module": "@jupyter-widgets/base",
            "_view_module_version": "1.2.0",
            "_view_name": "LayoutView",
            "align_content": null,
            "align_items": null,
            "align_self": null,
            "border": null,
            "bottom": null,
            "display": null,
            "flex": null,
            "flex_flow": null,
            "grid_area": null,
            "grid_auto_columns": null,
            "grid_auto_flow": null,
            "grid_auto_rows": null,
            "grid_column": null,
            "grid_gap": null,
            "grid_row": null,
            "grid_template_areas": null,
            "grid_template_columns": null,
            "grid_template_rows": null,
            "height": null,
            "justify_content": null,
            "justify_items": null,
            "left": null,
            "margin": null,
            "max_height": null,
            "max_width": null,
            "min_height": null,
            "min_width": null,
            "object_fit": null,
            "object_position": null,
            "order": null,
            "overflow": null,
            "overflow_x": null,
            "overflow_y": null,
            "padding": null,
            "right": null,
            "top": null,
            "visibility": null,
            "width": null
          }
        },
        "38b0fde6f5d849c192776bab52e2e7b2": {
          "model_module": "@jupyter-widgets/controls",
          "model_name": "ProgressStyleModel",
          "model_module_version": "1.5.0",
          "state": {
            "_model_module": "@jupyter-widgets/controls",
            "_model_module_version": "1.5.0",
            "_model_name": "ProgressStyleModel",
            "_view_count": null,
            "_view_module": "@jupyter-widgets/base",
            "_view_module_version": "1.2.0",
            "_view_name": "StyleView",
            "bar_color": null,
            "description_width": ""
          }
        },
        "72c7a3cf462049d480cb22cb91e9c31f": {
          "model_module": "@jupyter-widgets/base",
          "model_name": "LayoutModel",
          "model_module_version": "1.2.0",
          "state": {
            "_model_module": "@jupyter-widgets/base",
            "_model_module_version": "1.2.0",
            "_model_name": "LayoutModel",
            "_view_count": null,
            "_view_module": "@jupyter-widgets/base",
            "_view_module_version": "1.2.0",
            "_view_name": "LayoutView",
            "align_content": null,
            "align_items": null,
            "align_self": null,
            "border": null,
            "bottom": null,
            "display": null,
            "flex": null,
            "flex_flow": null,
            "grid_area": null,
            "grid_auto_columns": null,
            "grid_auto_flow": null,
            "grid_auto_rows": null,
            "grid_column": null,
            "grid_gap": null,
            "grid_row": null,
            "grid_template_areas": null,
            "grid_template_columns": null,
            "grid_template_rows": null,
            "height": null,
            "justify_content": null,
            "justify_items": null,
            "left": null,
            "margin": null,
            "max_height": null,
            "max_width": null,
            "min_height": null,
            "min_width": null,
            "object_fit": null,
            "object_position": null,
            "order": null,
            "overflow": null,
            "overflow_x": null,
            "overflow_y": null,
            "padding": null,
            "right": null,
            "top": null,
            "visibility": null,
            "width": null
          }
        },
        "4ac2757d83004302b62d66a18d133557": {
          "model_module": "@jupyter-widgets/controls",
          "model_name": "DescriptionStyleModel",
          "model_module_version": "1.5.0",
          "state": {
            "_model_module": "@jupyter-widgets/controls",
            "_model_module_version": "1.5.0",
            "_model_name": "DescriptionStyleModel",
            "_view_count": null,
            "_view_module": "@jupyter-widgets/base",
            "_view_module_version": "1.2.0",
            "_view_name": "StyleView",
            "description_width": ""
          }
        },
        "8302c3be68d04e7d8e759653381482c3": {
          "model_module": "@jupyter-widgets/controls",
          "model_name": "HBoxModel",
          "model_module_version": "1.5.0",
          "state": {
            "_dom_classes": [],
            "_model_module": "@jupyter-widgets/controls",
            "_model_module_version": "1.5.0",
            "_model_name": "HBoxModel",
            "_view_count": null,
            "_view_module": "@jupyter-widgets/controls",
            "_view_module_version": "1.5.0",
            "_view_name": "HBoxView",
            "box_style": "",
            "children": [
              "IPY_MODEL_14a2fcbd1cb64fc2a925ca57f2566c67",
              "IPY_MODEL_dc7208d99384421996ec6297e88367f6",
              "IPY_MODEL_ca800bb6a0c94384bc885f3c5d291f05"
            ],
            "layout": "IPY_MODEL_0b9964fd94c1448db88d889e03ac92b1"
          }
        },
        "14a2fcbd1cb64fc2a925ca57f2566c67": {
          "model_module": "@jupyter-widgets/controls",
          "model_name": "HTMLModel",
          "model_module_version": "1.5.0",
          "state": {
            "_dom_classes": [],
            "_model_module": "@jupyter-widgets/controls",
            "_model_module_version": "1.5.0",
            "_model_name": "HTMLModel",
            "_view_count": null,
            "_view_module": "@jupyter-widgets/controls",
            "_view_module_version": "1.5.0",
            "_view_name": "HTMLView",
            "description": "",
            "description_tooltip": null,
            "layout": "IPY_MODEL_36ef79d08e9b41e892b5d6b0b1407c0a",
            "placeholder": "​",
            "style": "IPY_MODEL_6a7698ed8d944ec89494814bea8f5ccb",
            "value": "pytorch_model.bin: 100%"
          }
        },
        "dc7208d99384421996ec6297e88367f6": {
          "model_module": "@jupyter-widgets/controls",
          "model_name": "FloatProgressModel",
          "model_module_version": "1.5.0",
          "state": {
            "_dom_classes": [],
            "_model_module": "@jupyter-widgets/controls",
            "_model_module_version": "1.5.0",
            "_model_name": "FloatProgressModel",
            "_view_count": null,
            "_view_module": "@jupyter-widgets/controls",
            "_view_module_version": "1.5.0",
            "_view_name": "ProgressView",
            "bar_style": "success",
            "description": "",
            "description_tooltip": null,
            "layout": "IPY_MODEL_51ff031835304ad08da4f3ed4973f7b7",
            "max": 439101405,
            "min": 0,
            "orientation": "horizontal",
            "style": "IPY_MODEL_e96d861e173d4942b7312972f53489a7",
            "value": 439101405
          }
        },
        "ca800bb6a0c94384bc885f3c5d291f05": {
          "model_module": "@jupyter-widgets/controls",
          "model_name": "HTMLModel",
          "model_module_version": "1.5.0",
          "state": {
            "_dom_classes": [],
            "_model_module": "@jupyter-widgets/controls",
            "_model_module_version": "1.5.0",
            "_model_name": "HTMLModel",
            "_view_count": null,
            "_view_module": "@jupyter-widgets/controls",
            "_view_module_version": "1.5.0",
            "_view_name": "HTMLView",
            "description": "",
            "description_tooltip": null,
            "layout": "IPY_MODEL_539a8d3128154512b52e96a215cc9511",
            "placeholder": "​",
            "style": "IPY_MODEL_7e88d1c241cd46e795958f488bb8c268",
            "value": " 439M/439M [00:02&lt;00:00, 239MB/s]"
          }
        },
        "0b9964fd94c1448db88d889e03ac92b1": {
          "model_module": "@jupyter-widgets/base",
          "model_name": "LayoutModel",
          "model_module_version": "1.2.0",
          "state": {
            "_model_module": "@jupyter-widgets/base",
            "_model_module_version": "1.2.0",
            "_model_name": "LayoutModel",
            "_view_count": null,
            "_view_module": "@jupyter-widgets/base",
            "_view_module_version": "1.2.0",
            "_view_name": "LayoutView",
            "align_content": null,
            "align_items": null,
            "align_self": null,
            "border": null,
            "bottom": null,
            "display": null,
            "flex": null,
            "flex_flow": null,
            "grid_area": null,
            "grid_auto_columns": null,
            "grid_auto_flow": null,
            "grid_auto_rows": null,
            "grid_column": null,
            "grid_gap": null,
            "grid_row": null,
            "grid_template_areas": null,
            "grid_template_columns": null,
            "grid_template_rows": null,
            "height": null,
            "justify_content": null,
            "justify_items": null,
            "left": null,
            "margin": null,
            "max_height": null,
            "max_width": null,
            "min_height": null,
            "min_width": null,
            "object_fit": null,
            "object_position": null,
            "order": null,
            "overflow": null,
            "overflow_x": null,
            "overflow_y": null,
            "padding": null,
            "right": null,
            "top": null,
            "visibility": null,
            "width": null
          }
        },
        "36ef79d08e9b41e892b5d6b0b1407c0a": {
          "model_module": "@jupyter-widgets/base",
          "model_name": "LayoutModel",
          "model_module_version": "1.2.0",
          "state": {
            "_model_module": "@jupyter-widgets/base",
            "_model_module_version": "1.2.0",
            "_model_name": "LayoutModel",
            "_view_count": null,
            "_view_module": "@jupyter-widgets/base",
            "_view_module_version": "1.2.0",
            "_view_name": "LayoutView",
            "align_content": null,
            "align_items": null,
            "align_self": null,
            "border": null,
            "bottom": null,
            "display": null,
            "flex": null,
            "flex_flow": null,
            "grid_area": null,
            "grid_auto_columns": null,
            "grid_auto_flow": null,
            "grid_auto_rows": null,
            "grid_column": null,
            "grid_gap": null,
            "grid_row": null,
            "grid_template_areas": null,
            "grid_template_columns": null,
            "grid_template_rows": null,
            "height": null,
            "justify_content": null,
            "justify_items": null,
            "left": null,
            "margin": null,
            "max_height": null,
            "max_width": null,
            "min_height": null,
            "min_width": null,
            "object_fit": null,
            "object_position": null,
            "order": null,
            "overflow": null,
            "overflow_x": null,
            "overflow_y": null,
            "padding": null,
            "right": null,
            "top": null,
            "visibility": null,
            "width": null
          }
        },
        "6a7698ed8d944ec89494814bea8f5ccb": {
          "model_module": "@jupyter-widgets/controls",
          "model_name": "DescriptionStyleModel",
          "model_module_version": "1.5.0",
          "state": {
            "_model_module": "@jupyter-widgets/controls",
            "_model_module_version": "1.5.0",
            "_model_name": "DescriptionStyleModel",
            "_view_count": null,
            "_view_module": "@jupyter-widgets/base",
            "_view_module_version": "1.2.0",
            "_view_name": "StyleView",
            "description_width": ""
          }
        },
        "51ff031835304ad08da4f3ed4973f7b7": {
          "model_module": "@jupyter-widgets/base",
          "model_name": "LayoutModel",
          "model_module_version": "1.2.0",
          "state": {
            "_model_module": "@jupyter-widgets/base",
            "_model_module_version": "1.2.0",
            "_model_name": "LayoutModel",
            "_view_count": null,
            "_view_module": "@jupyter-widgets/base",
            "_view_module_version": "1.2.0",
            "_view_name": "LayoutView",
            "align_content": null,
            "align_items": null,
            "align_self": null,
            "border": null,
            "bottom": null,
            "display": null,
            "flex": null,
            "flex_flow": null,
            "grid_area": null,
            "grid_auto_columns": null,
            "grid_auto_flow": null,
            "grid_auto_rows": null,
            "grid_column": null,
            "grid_gap": null,
            "grid_row": null,
            "grid_template_areas": null,
            "grid_template_columns": null,
            "grid_template_rows": null,
            "height": null,
            "justify_content": null,
            "justify_items": null,
            "left": null,
            "margin": null,
            "max_height": null,
            "max_width": null,
            "min_height": null,
            "min_width": null,
            "object_fit": null,
            "object_position": null,
            "order": null,
            "overflow": null,
            "overflow_x": null,
            "overflow_y": null,
            "padding": null,
            "right": null,
            "top": null,
            "visibility": null,
            "width": null
          }
        },
        "e96d861e173d4942b7312972f53489a7": {
          "model_module": "@jupyter-widgets/controls",
          "model_name": "ProgressStyleModel",
          "model_module_version": "1.5.0",
          "state": {
            "_model_module": "@jupyter-widgets/controls",
            "_model_module_version": "1.5.0",
            "_model_name": "ProgressStyleModel",
            "_view_count": null,
            "_view_module": "@jupyter-widgets/base",
            "_view_module_version": "1.2.0",
            "_view_name": "StyleView",
            "bar_color": null,
            "description_width": ""
          }
        },
        "539a8d3128154512b52e96a215cc9511": {
          "model_module": "@jupyter-widgets/base",
          "model_name": "LayoutModel",
          "model_module_version": "1.2.0",
          "state": {
            "_model_module": "@jupyter-widgets/base",
            "_model_module_version": "1.2.0",
            "_model_name": "LayoutModel",
            "_view_count": null,
            "_view_module": "@jupyter-widgets/base",
            "_view_module_version": "1.2.0",
            "_view_name": "LayoutView",
            "align_content": null,
            "align_items": null,
            "align_self": null,
            "border": null,
            "bottom": null,
            "display": null,
            "flex": null,
            "flex_flow": null,
            "grid_area": null,
            "grid_auto_columns": null,
            "grid_auto_flow": null,
            "grid_auto_rows": null,
            "grid_column": null,
            "grid_gap": null,
            "grid_row": null,
            "grid_template_areas": null,
            "grid_template_columns": null,
            "grid_template_rows": null,
            "height": null,
            "justify_content": null,
            "justify_items": null,
            "left": null,
            "margin": null,
            "max_height": null,
            "max_width": null,
            "min_height": null,
            "min_width": null,
            "object_fit": null,
            "object_position": null,
            "order": null,
            "overflow": null,
            "overflow_x": null,
            "overflow_y": null,
            "padding": null,
            "right": null,
            "top": null,
            "visibility": null,
            "width": null
          }
        },
        "7e88d1c241cd46e795958f488bb8c268": {
          "model_module": "@jupyter-widgets/controls",
          "model_name": "DescriptionStyleModel",
          "model_module_version": "1.5.0",
          "state": {
            "_model_module": "@jupyter-widgets/controls",
            "_model_module_version": "1.5.0",
            "_model_name": "DescriptionStyleModel",
            "_view_count": null,
            "_view_module": "@jupyter-widgets/base",
            "_view_module_version": "1.2.0",
            "_view_name": "StyleView",
            "description_width": ""
          }
        },
        "74181092dfae449d879f8fed0f5b3fa8": {
          "model_module": "@jupyter-widgets/controls",
          "model_name": "HBoxModel",
          "model_module_version": "1.5.0",
          "state": {
            "_dom_classes": [],
            "_model_module": "@jupyter-widgets/controls",
            "_model_module_version": "1.5.0",
            "_model_name": "HBoxModel",
            "_view_count": null,
            "_view_module": "@jupyter-widgets/controls",
            "_view_module_version": "1.5.0",
            "_view_name": "HBoxView",
            "box_style": "",
            "children": [
              "IPY_MODEL_b2c30237b6c04ea693b16e2f36eeff60",
              "IPY_MODEL_60c396b7dffa42cb99548a7d8757799d",
              "IPY_MODEL_22376b0a447148e2a4645598742923d7"
            ],
            "layout": "IPY_MODEL_dc619e1d4b964ff2a71a736c1c3143b0"
          }
        },
        "b2c30237b6c04ea693b16e2f36eeff60": {
          "model_module": "@jupyter-widgets/controls",
          "model_name": "HTMLModel",
          "model_module_version": "1.5.0",
          "state": {
            "_dom_classes": [],
            "_model_module": "@jupyter-widgets/controls",
            "_model_module_version": "1.5.0",
            "_model_name": "HTMLModel",
            "_view_count": null,
            "_view_module": "@jupyter-widgets/controls",
            "_view_module_version": "1.5.0",
            "_view_name": "HTMLView",
            "description": "",
            "description_tooltip": null,
            "layout": "IPY_MODEL_b7bfb9ec872b4b4ea2b684b8f7ac1004",
            "placeholder": "​",
            "style": "IPY_MODEL_ea6806c4277642629cbe5a22f4759b88",
            "value": "vocab.txt: 100%"
          }
        },
        "60c396b7dffa42cb99548a7d8757799d": {
          "model_module": "@jupyter-widgets/controls",
          "model_name": "FloatProgressModel",
          "model_module_version": "1.5.0",
          "state": {
            "_dom_classes": [],
            "_model_module": "@jupyter-widgets/controls",
            "_model_module_version": "1.5.0",
            "_model_name": "FloatProgressModel",
            "_view_count": null,
            "_view_module": "@jupyter-widgets/controls",
            "_view_module_version": "1.5.0",
            "_view_name": "ProgressView",
            "bar_style": "success",
            "description": "",
            "description_tooltip": null,
            "layout": "IPY_MODEL_27983198535c45f8b28566d4d08b5ad2",
            "max": 226122,
            "min": 0,
            "orientation": "horizontal",
            "style": "IPY_MODEL_4996e98be1564fd186f00c28ca77b217",
            "value": 226122
          }
        },
        "22376b0a447148e2a4645598742923d7": {
          "model_module": "@jupyter-widgets/controls",
          "model_name": "HTMLModel",
          "model_module_version": "1.5.0",
          "state": {
            "_dom_classes": [],
            "_model_module": "@jupyter-widgets/controls",
            "_model_module_version": "1.5.0",
            "_model_name": "HTMLModel",
            "_view_count": null,
            "_view_module": "@jupyter-widgets/controls",
            "_view_module_version": "1.5.0",
            "_view_name": "HTMLView",
            "description": "",
            "description_tooltip": null,
            "layout": "IPY_MODEL_4dc2eacbca49416f934d1469c2235493",
            "placeholder": "​",
            "style": "IPY_MODEL_a4c1c7734e1d4166bf8072eaffcfc2f2",
            "value": " 226k/226k [00:00&lt;00:00, 5.87MB/s]"
          }
        },
        "dc619e1d4b964ff2a71a736c1c3143b0": {
          "model_module": "@jupyter-widgets/base",
          "model_name": "LayoutModel",
          "model_module_version": "1.2.0",
          "state": {
            "_model_module": "@jupyter-widgets/base",
            "_model_module_version": "1.2.0",
            "_model_name": "LayoutModel",
            "_view_count": null,
            "_view_module": "@jupyter-widgets/base",
            "_view_module_version": "1.2.0",
            "_view_name": "LayoutView",
            "align_content": null,
            "align_items": null,
            "align_self": null,
            "border": null,
            "bottom": null,
            "display": null,
            "flex": null,
            "flex_flow": null,
            "grid_area": null,
            "grid_auto_columns": null,
            "grid_auto_flow": null,
            "grid_auto_rows": null,
            "grid_column": null,
            "grid_gap": null,
            "grid_row": null,
            "grid_template_areas": null,
            "grid_template_columns": null,
            "grid_template_rows": null,
            "height": null,
            "justify_content": null,
            "justify_items": null,
            "left": null,
            "margin": null,
            "max_height": null,
            "max_width": null,
            "min_height": null,
            "min_width": null,
            "object_fit": null,
            "object_position": null,
            "order": null,
            "overflow": null,
            "overflow_x": null,
            "overflow_y": null,
            "padding": null,
            "right": null,
            "top": null,
            "visibility": null,
            "width": null
          }
        },
        "b7bfb9ec872b4b4ea2b684b8f7ac1004": {
          "model_module": "@jupyter-widgets/base",
          "model_name": "LayoutModel",
          "model_module_version": "1.2.0",
          "state": {
            "_model_module": "@jupyter-widgets/base",
            "_model_module_version": "1.2.0",
            "_model_name": "LayoutModel",
            "_view_count": null,
            "_view_module": "@jupyter-widgets/base",
            "_view_module_version": "1.2.0",
            "_view_name": "LayoutView",
            "align_content": null,
            "align_items": null,
            "align_self": null,
            "border": null,
            "bottom": null,
            "display": null,
            "flex": null,
            "flex_flow": null,
            "grid_area": null,
            "grid_auto_columns": null,
            "grid_auto_flow": null,
            "grid_auto_rows": null,
            "grid_column": null,
            "grid_gap": null,
            "grid_row": null,
            "grid_template_areas": null,
            "grid_template_columns": null,
            "grid_template_rows": null,
            "height": null,
            "justify_content": null,
            "justify_items": null,
            "left": null,
            "margin": null,
            "max_height": null,
            "max_width": null,
            "min_height": null,
            "min_width": null,
            "object_fit": null,
            "object_position": null,
            "order": null,
            "overflow": null,
            "overflow_x": null,
            "overflow_y": null,
            "padding": null,
            "right": null,
            "top": null,
            "visibility": null,
            "width": null
          }
        },
        "ea6806c4277642629cbe5a22f4759b88": {
          "model_module": "@jupyter-widgets/controls",
          "model_name": "DescriptionStyleModel",
          "model_module_version": "1.5.0",
          "state": {
            "_model_module": "@jupyter-widgets/controls",
            "_model_module_version": "1.5.0",
            "_model_name": "DescriptionStyleModel",
            "_view_count": null,
            "_view_module": "@jupyter-widgets/base",
            "_view_module_version": "1.2.0",
            "_view_name": "StyleView",
            "description_width": ""
          }
        },
        "27983198535c45f8b28566d4d08b5ad2": {
          "model_module": "@jupyter-widgets/base",
          "model_name": "LayoutModel",
          "model_module_version": "1.2.0",
          "state": {
            "_model_module": "@jupyter-widgets/base",
            "_model_module_version": "1.2.0",
            "_model_name": "LayoutModel",
            "_view_count": null,
            "_view_module": "@jupyter-widgets/base",
            "_view_module_version": "1.2.0",
            "_view_name": "LayoutView",
            "align_content": null,
            "align_items": null,
            "align_self": null,
            "border": null,
            "bottom": null,
            "display": null,
            "flex": null,
            "flex_flow": null,
            "grid_area": null,
            "grid_auto_columns": null,
            "grid_auto_flow": null,
            "grid_auto_rows": null,
            "grid_column": null,
            "grid_gap": null,
            "grid_row": null,
            "grid_template_areas": null,
            "grid_template_columns": null,
            "grid_template_rows": null,
            "height": null,
            "justify_content": null,
            "justify_items": null,
            "left": null,
            "margin": null,
            "max_height": null,
            "max_width": null,
            "min_height": null,
            "min_width": null,
            "object_fit": null,
            "object_position": null,
            "order": null,
            "overflow": null,
            "overflow_x": null,
            "overflow_y": null,
            "padding": null,
            "right": null,
            "top": null,
            "visibility": null,
            "width": null
          }
        },
        "4996e98be1564fd186f00c28ca77b217": {
          "model_module": "@jupyter-widgets/controls",
          "model_name": "ProgressStyleModel",
          "model_module_version": "1.5.0",
          "state": {
            "_model_module": "@jupyter-widgets/controls",
            "_model_module_version": "1.5.0",
            "_model_name": "ProgressStyleModel",
            "_view_count": null,
            "_view_module": "@jupyter-widgets/base",
            "_view_module_version": "1.2.0",
            "_view_name": "StyleView",
            "bar_color": null,
            "description_width": ""
          }
        },
        "4dc2eacbca49416f934d1469c2235493": {
          "model_module": "@jupyter-widgets/base",
          "model_name": "LayoutModel",
          "model_module_version": "1.2.0",
          "state": {
            "_model_module": "@jupyter-widgets/base",
            "_model_module_version": "1.2.0",
            "_model_name": "LayoutModel",
            "_view_count": null,
            "_view_module": "@jupyter-widgets/base",
            "_view_module_version": "1.2.0",
            "_view_name": "LayoutView",
            "align_content": null,
            "align_items": null,
            "align_self": null,
            "border": null,
            "bottom": null,
            "display": null,
            "flex": null,
            "flex_flow": null,
            "grid_area": null,
            "grid_auto_columns": null,
            "grid_auto_flow": null,
            "grid_auto_rows": null,
            "grid_column": null,
            "grid_gap": null,
            "grid_row": null,
            "grid_template_areas": null,
            "grid_template_columns": null,
            "grid_template_rows": null,
            "height": null,
            "justify_content": null,
            "justify_items": null,
            "left": null,
            "margin": null,
            "max_height": null,
            "max_width": null,
            "min_height": null,
            "min_width": null,
            "object_fit": null,
            "object_position": null,
            "order": null,
            "overflow": null,
            "overflow_x": null,
            "overflow_y": null,
            "padding": null,
            "right": null,
            "top": null,
            "visibility": null,
            "width": null
          }
        },
        "a4c1c7734e1d4166bf8072eaffcfc2f2": {
          "model_module": "@jupyter-widgets/controls",
          "model_name": "DescriptionStyleModel",
          "model_module_version": "1.5.0",
          "state": {
            "_model_module": "@jupyter-widgets/controls",
            "_model_module_version": "1.5.0",
            "_model_name": "DescriptionStyleModel",
            "_view_count": null,
            "_view_module": "@jupyter-widgets/base",
            "_view_module_version": "1.2.0",
            "_view_name": "StyleView",
            "description_width": ""
          }
        }
      }
    }
  },
  "nbformat": 4,
  "nbformat_minor": 0
}